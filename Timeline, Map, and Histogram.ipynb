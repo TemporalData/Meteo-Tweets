{
 "cells": [
  {
   "cell_type": "markdown",
   "metadata": {},
   "source": [
    "### Imports"
   ]
  },
  {
   "cell_type": "code",
   "execution_count": 1,
   "metadata": {},
   "outputs": [],
   "source": [
    "import numpy as np\n",
    "import pandas as pd\n",
    "from pyproj import Transformer\n",
    "from datetime import date,datetime"
   ]
  },
  {
   "cell_type": "code",
   "execution_count": 26,
   "metadata": {},
   "outputs": [
    {
     "data": {
      "text/html": [
       "\n",
       "    <div class=\"bk-root\">\n",
       "        <a href=\"https://bokeh.org\" target=\"_blank\" class=\"bk-logo bk-logo-small bk-logo-notebook\"></a>\n",
       "        <span id=\"3519\">Loading BokehJS ...</span>\n",
       "    </div>"
      ]
     },
     "metadata": {},
     "output_type": "display_data"
    },
    {
     "data": {
      "application/javascript": [
       "\n",
       "(function(root) {\n",
       "  function now() {\n",
       "    return new Date();\n",
       "  }\n",
       "\n",
       "  var force = true;\n",
       "\n",
       "  if (typeof root._bokeh_onload_callbacks === \"undefined\" || force === true) {\n",
       "    root._bokeh_onload_callbacks = [];\n",
       "    root._bokeh_is_loading = undefined;\n",
       "  }\n",
       "\n",
       "  var JS_MIME_TYPE = 'application/javascript';\n",
       "  var HTML_MIME_TYPE = 'text/html';\n",
       "  var EXEC_MIME_TYPE = 'application/vnd.bokehjs_exec.v0+json';\n",
       "  var CLASS_NAME = 'output_bokeh rendered_html';\n",
       "\n",
       "  /**\n",
       "   * Render data to the DOM node\n",
       "   */\n",
       "  function render(props, node) {\n",
       "    var script = document.createElement(\"script\");\n",
       "    node.appendChild(script);\n",
       "  }\n",
       "\n",
       "  /**\n",
       "   * Handle when an output is cleared or removed\n",
       "   */\n",
       "  function handleClearOutput(event, handle) {\n",
       "    var cell = handle.cell;\n",
       "\n",
       "    var id = cell.output_area._bokeh_element_id;\n",
       "    var server_id = cell.output_area._bokeh_server_id;\n",
       "    // Clean up Bokeh references\n",
       "    if (id != null && id in Bokeh.index) {\n",
       "      Bokeh.index[id].model.document.clear();\n",
       "      delete Bokeh.index[id];\n",
       "    }\n",
       "\n",
       "    if (server_id !== undefined) {\n",
       "      // Clean up Bokeh references\n",
       "      var cmd = \"from bokeh.io.state import curstate; print(curstate().uuid_to_server['\" + server_id + \"'].get_sessions()[0].document.roots[0]._id)\";\n",
       "      cell.notebook.kernel.execute(cmd, {\n",
       "        iopub: {\n",
       "          output: function(msg) {\n",
       "            var id = msg.content.text.trim();\n",
       "            if (id in Bokeh.index) {\n",
       "              Bokeh.index[id].model.document.clear();\n",
       "              delete Bokeh.index[id];\n",
       "            }\n",
       "          }\n",
       "        }\n",
       "      });\n",
       "      // Destroy server and session\n",
       "      var cmd = \"import bokeh.io.notebook as ion; ion.destroy_server('\" + server_id + \"')\";\n",
       "      cell.notebook.kernel.execute(cmd);\n",
       "    }\n",
       "  }\n",
       "\n",
       "  /**\n",
       "   * Handle when a new output is added\n",
       "   */\n",
       "  function handleAddOutput(event, handle) {\n",
       "    var output_area = handle.output_area;\n",
       "    var output = handle.output;\n",
       "\n",
       "    // limit handleAddOutput to display_data with EXEC_MIME_TYPE content only\n",
       "    if ((output.output_type != \"display_data\") || (!output.data.hasOwnProperty(EXEC_MIME_TYPE))) {\n",
       "      return\n",
       "    }\n",
       "\n",
       "    var toinsert = output_area.element.find(\".\" + CLASS_NAME.split(' ')[0]);\n",
       "\n",
       "    if (output.metadata[EXEC_MIME_TYPE][\"id\"] !== undefined) {\n",
       "      toinsert[toinsert.length - 1].firstChild.textContent = output.data[JS_MIME_TYPE];\n",
       "      // store reference to embed id on output_area\n",
       "      output_area._bokeh_element_id = output.metadata[EXEC_MIME_TYPE][\"id\"];\n",
       "    }\n",
       "    if (output.metadata[EXEC_MIME_TYPE][\"server_id\"] !== undefined) {\n",
       "      var bk_div = document.createElement(\"div\");\n",
       "      bk_div.innerHTML = output.data[HTML_MIME_TYPE];\n",
       "      var script_attrs = bk_div.children[0].attributes;\n",
       "      for (var i = 0; i < script_attrs.length; i++) {\n",
       "        toinsert[toinsert.length - 1].firstChild.setAttribute(script_attrs[i].name, script_attrs[i].value);\n",
       "        toinsert[toinsert.length - 1].firstChild.textContent = bk_div.children[0].textContent\n",
       "      }\n",
       "      // store reference to server id on output_area\n",
       "      output_area._bokeh_server_id = output.metadata[EXEC_MIME_TYPE][\"server_id\"];\n",
       "    }\n",
       "  }\n",
       "\n",
       "  function register_renderer(events, OutputArea) {\n",
       "\n",
       "    function append_mime(data, metadata, element) {\n",
       "      // create a DOM node to render to\n",
       "      var toinsert = this.create_output_subarea(\n",
       "        metadata,\n",
       "        CLASS_NAME,\n",
       "        EXEC_MIME_TYPE\n",
       "      );\n",
       "      this.keyboard_manager.register_events(toinsert);\n",
       "      // Render to node\n",
       "      var props = {data: data, metadata: metadata[EXEC_MIME_TYPE]};\n",
       "      render(props, toinsert[toinsert.length - 1]);\n",
       "      element.append(toinsert);\n",
       "      return toinsert\n",
       "    }\n",
       "\n",
       "    /* Handle when an output is cleared or removed */\n",
       "    events.on('clear_output.CodeCell', handleClearOutput);\n",
       "    events.on('delete.Cell', handleClearOutput);\n",
       "\n",
       "    /* Handle when a new output is added */\n",
       "    events.on('output_added.OutputArea', handleAddOutput);\n",
       "\n",
       "    /**\n",
       "     * Register the mime type and append_mime function with output_area\n",
       "     */\n",
       "    OutputArea.prototype.register_mime_type(EXEC_MIME_TYPE, append_mime, {\n",
       "      /* Is output safe? */\n",
       "      safe: true,\n",
       "      /* Index of renderer in `output_area.display_order` */\n",
       "      index: 0\n",
       "    });\n",
       "  }\n",
       "\n",
       "  // register the mime type if in Jupyter Notebook environment and previously unregistered\n",
       "  if (root.Jupyter !== undefined) {\n",
       "    var events = require('base/js/events');\n",
       "    var OutputArea = require('notebook/js/outputarea').OutputArea;\n",
       "\n",
       "    if (OutputArea.prototype.mime_types().indexOf(EXEC_MIME_TYPE) == -1) {\n",
       "      register_renderer(events, OutputArea);\n",
       "    }\n",
       "  }\n",
       "\n",
       "  \n",
       "  if (typeof (root._bokeh_timeout) === \"undefined\" || force === true) {\n",
       "    root._bokeh_timeout = Date.now() + 5000;\n",
       "    root._bokeh_failed_load = false;\n",
       "  }\n",
       "\n",
       "  var NB_LOAD_WARNING = {'data': {'text/html':\n",
       "     \"<div style='background-color: #fdd'>\\n\"+\n",
       "     \"<p>\\n\"+\n",
       "     \"BokehJS does not appear to have successfully loaded. If loading BokehJS from CDN, this \\n\"+\n",
       "     \"may be due to a slow or bad network connection. Possible fixes:\\n\"+\n",
       "     \"</p>\\n\"+\n",
       "     \"<ul>\\n\"+\n",
       "     \"<li>re-rerun `output_notebook()` to attempt to load from CDN again, or</li>\\n\"+\n",
       "     \"<li>use INLINE resources instead, as so:</li>\\n\"+\n",
       "     \"</ul>\\n\"+\n",
       "     \"<code>\\n\"+\n",
       "     \"from bokeh.resources import INLINE\\n\"+\n",
       "     \"output_notebook(resources=INLINE)\\n\"+\n",
       "     \"</code>\\n\"+\n",
       "     \"</div>\"}};\n",
       "\n",
       "  function display_loaded() {\n",
       "    var el = document.getElementById(\"3519\");\n",
       "    if (el != null) {\n",
       "      el.textContent = \"BokehJS is loading...\";\n",
       "    }\n",
       "    if (root.Bokeh !== undefined) {\n",
       "      if (el != null) {\n",
       "        el.textContent = \"BokehJS \" + root.Bokeh.version + \" successfully loaded.\";\n",
       "      }\n",
       "    } else if (Date.now() < root._bokeh_timeout) {\n",
       "      setTimeout(display_loaded, 100)\n",
       "    }\n",
       "  }\n",
       "\n",
       "\n",
       "  function run_callbacks() {\n",
       "    try {\n",
       "      root._bokeh_onload_callbacks.forEach(function(callback) {\n",
       "        if (callback != null)\n",
       "          callback();\n",
       "      });\n",
       "    } finally {\n",
       "      delete root._bokeh_onload_callbacks\n",
       "    }\n",
       "    console.debug(\"Bokeh: all callbacks have finished\");\n",
       "  }\n",
       "\n",
       "  function load_libs(css_urls, js_urls, callback) {\n",
       "    if (css_urls == null) css_urls = [];\n",
       "    if (js_urls == null) js_urls = [];\n",
       "\n",
       "    root._bokeh_onload_callbacks.push(callback);\n",
       "    if (root._bokeh_is_loading > 0) {\n",
       "      console.debug(\"Bokeh: BokehJS is being loaded, scheduling callback at\", now());\n",
       "      return null;\n",
       "    }\n",
       "    if (js_urls == null || js_urls.length === 0) {\n",
       "      run_callbacks();\n",
       "      return null;\n",
       "    }\n",
       "    console.debug(\"Bokeh: BokehJS not loaded, scheduling load and callback at\", now());\n",
       "    root._bokeh_is_loading = css_urls.length + js_urls.length;\n",
       "\n",
       "    function on_load() {\n",
       "      root._bokeh_is_loading--;\n",
       "      if (root._bokeh_is_loading === 0) {\n",
       "        console.debug(\"Bokeh: all BokehJS libraries/stylesheets loaded\");\n",
       "        run_callbacks()\n",
       "      }\n",
       "    }\n",
       "\n",
       "    function on_error() {\n",
       "      console.error(\"failed to load \" + url);\n",
       "    }\n",
       "\n",
       "    for (var i = 0; i < css_urls.length; i++) {\n",
       "      var url = css_urls[i];\n",
       "      const element = document.createElement(\"link\");\n",
       "      element.onload = on_load;\n",
       "      element.onerror = on_error;\n",
       "      element.rel = \"stylesheet\";\n",
       "      element.type = \"text/css\";\n",
       "      element.href = url;\n",
       "      console.debug(\"Bokeh: injecting link tag for BokehJS stylesheet: \", url);\n",
       "      document.body.appendChild(element);\n",
       "    }\n",
       "\n",
       "    const hashes = {\"https://cdn.bokeh.org/bokeh/release/bokeh-2.1.1.min.js\": \"kLr4fYcqcSpbuI95brIH3vnnYCquzzSxHPU6XGQCIkQRGJwhg0StNbj1eegrHs12\", \"https://cdn.bokeh.org/bokeh/release/bokeh-widgets-2.1.1.min.js\": \"xIGPmVtaOm+z0BqfSOMn4lOR6ciex448GIKG4eE61LsAvmGj48XcMQZtKcE/UXZe\", \"https://cdn.bokeh.org/bokeh/release/bokeh-tables-2.1.1.min.js\": \"Dc9u1wF/0zApGIWoBbH77iWEHtdmkuYWG839Uzmv8y8yBLXebjO9ZnERsde5Ln/P\", \"https://cdn.bokeh.org/bokeh/release/bokeh-gl-2.1.1.min.js\": \"cT9JaBz7GiRXdENrJLZNSC6eMNF3nh3fa5fTF51Svp+ukxPdwcU5kGXGPBgDCa2j\"};\n",
       "\n",
       "    for (var i = 0; i < js_urls.length; i++) {\n",
       "      var url = js_urls[i];\n",
       "      var element = document.createElement('script');\n",
       "      element.onload = on_load;\n",
       "      element.onerror = on_error;\n",
       "      element.async = false;\n",
       "      element.src = url;\n",
       "      if (url in hashes) {\n",
       "        element.crossOrigin = \"anonymous\";\n",
       "        element.integrity = \"sha384-\" + hashes[url];\n",
       "      }\n",
       "      console.debug(\"Bokeh: injecting script tag for BokehJS library: \", url);\n",
       "      document.head.appendChild(element);\n",
       "    }\n",
       "  };\n",
       "\n",
       "  function inject_raw_css(css) {\n",
       "    const element = document.createElement(\"style\");\n",
       "    element.appendChild(document.createTextNode(css));\n",
       "    document.body.appendChild(element);\n",
       "  }\n",
       "\n",
       "  \n",
       "  var js_urls = [\"https://cdn.bokeh.org/bokeh/release/bokeh-2.1.1.min.js\", \"https://cdn.bokeh.org/bokeh/release/bokeh-widgets-2.1.1.min.js\", \"https://cdn.bokeh.org/bokeh/release/bokeh-tables-2.1.1.min.js\", \"https://cdn.bokeh.org/bokeh/release/bokeh-gl-2.1.1.min.js\"];\n",
       "  var css_urls = [];\n",
       "  \n",
       "\n",
       "  var inline_js = [\n",
       "    function(Bokeh) {\n",
       "      Bokeh.set_log_level(\"info\");\n",
       "    },\n",
       "    function(Bokeh) {\n",
       "    \n",
       "    \n",
       "    }\n",
       "  ];\n",
       "\n",
       "  function run_inline_js() {\n",
       "    \n",
       "    if (root.Bokeh !== undefined || force === true) {\n",
       "      \n",
       "    for (var i = 0; i < inline_js.length; i++) {\n",
       "      inline_js[i].call(root, root.Bokeh);\n",
       "    }\n",
       "    if (force === true) {\n",
       "        display_loaded();\n",
       "      }} else if (Date.now() < root._bokeh_timeout) {\n",
       "      setTimeout(run_inline_js, 100);\n",
       "    } else if (!root._bokeh_failed_load) {\n",
       "      console.log(\"Bokeh: BokehJS failed to load within specified timeout.\");\n",
       "      root._bokeh_failed_load = true;\n",
       "    } else if (force !== true) {\n",
       "      var cell = $(document.getElementById(\"3519\")).parents('.cell').data().cell;\n",
       "      cell.output_area.append_execute_result(NB_LOAD_WARNING)\n",
       "    }\n",
       "\n",
       "  }\n",
       "\n",
       "  if (root._bokeh_is_loading === 0) {\n",
       "    console.debug(\"Bokeh: BokehJS loaded, going straight to plotting\");\n",
       "    run_inline_js();\n",
       "  } else {\n",
       "    load_libs(css_urls, js_urls, function() {\n",
       "      console.debug(\"Bokeh: BokehJS plotting callback run at\", now());\n",
       "      run_inline_js();\n",
       "    });\n",
       "  }\n",
       "}(window));"
      ],
      "application/vnd.bokehjs_load.v0+json": "\n(function(root) {\n  function now() {\n    return new Date();\n  }\n\n  var force = true;\n\n  if (typeof root._bokeh_onload_callbacks === \"undefined\" || force === true) {\n    root._bokeh_onload_callbacks = [];\n    root._bokeh_is_loading = undefined;\n  }\n\n  \n\n  \n  if (typeof (root._bokeh_timeout) === \"undefined\" || force === true) {\n    root._bokeh_timeout = Date.now() + 5000;\n    root._bokeh_failed_load = false;\n  }\n\n  var NB_LOAD_WARNING = {'data': {'text/html':\n     \"<div style='background-color: #fdd'>\\n\"+\n     \"<p>\\n\"+\n     \"BokehJS does not appear to have successfully loaded. If loading BokehJS from CDN, this \\n\"+\n     \"may be due to a slow or bad network connection. Possible fixes:\\n\"+\n     \"</p>\\n\"+\n     \"<ul>\\n\"+\n     \"<li>re-rerun `output_notebook()` to attempt to load from CDN again, or</li>\\n\"+\n     \"<li>use INLINE resources instead, as so:</li>\\n\"+\n     \"</ul>\\n\"+\n     \"<code>\\n\"+\n     \"from bokeh.resources import INLINE\\n\"+\n     \"output_notebook(resources=INLINE)\\n\"+\n     \"</code>\\n\"+\n     \"</div>\"}};\n\n  function display_loaded() {\n    var el = document.getElementById(\"3519\");\n    if (el != null) {\n      el.textContent = \"BokehJS is loading...\";\n    }\n    if (root.Bokeh !== undefined) {\n      if (el != null) {\n        el.textContent = \"BokehJS \" + root.Bokeh.version + \" successfully loaded.\";\n      }\n    } else if (Date.now() < root._bokeh_timeout) {\n      setTimeout(display_loaded, 100)\n    }\n  }\n\n\n  function run_callbacks() {\n    try {\n      root._bokeh_onload_callbacks.forEach(function(callback) {\n        if (callback != null)\n          callback();\n      });\n    } finally {\n      delete root._bokeh_onload_callbacks\n    }\n    console.debug(\"Bokeh: all callbacks have finished\");\n  }\n\n  function load_libs(css_urls, js_urls, callback) {\n    if (css_urls == null) css_urls = [];\n    if (js_urls == null) js_urls = [];\n\n    root._bokeh_onload_callbacks.push(callback);\n    if (root._bokeh_is_loading > 0) {\n      console.debug(\"Bokeh: BokehJS is being loaded, scheduling callback at\", now());\n      return null;\n    }\n    if (js_urls == null || js_urls.length === 0) {\n      run_callbacks();\n      return null;\n    }\n    console.debug(\"Bokeh: BokehJS not loaded, scheduling load and callback at\", now());\n    root._bokeh_is_loading = css_urls.length + js_urls.length;\n\n    function on_load() {\n      root._bokeh_is_loading--;\n      if (root._bokeh_is_loading === 0) {\n        console.debug(\"Bokeh: all BokehJS libraries/stylesheets loaded\");\n        run_callbacks()\n      }\n    }\n\n    function on_error() {\n      console.error(\"failed to load \" + url);\n    }\n\n    for (var i = 0; i < css_urls.length; i++) {\n      var url = css_urls[i];\n      const element = document.createElement(\"link\");\n      element.onload = on_load;\n      element.onerror = on_error;\n      element.rel = \"stylesheet\";\n      element.type = \"text/css\";\n      element.href = url;\n      console.debug(\"Bokeh: injecting link tag for BokehJS stylesheet: \", url);\n      document.body.appendChild(element);\n    }\n\n    const hashes = {\"https://cdn.bokeh.org/bokeh/release/bokeh-2.1.1.min.js\": \"kLr4fYcqcSpbuI95brIH3vnnYCquzzSxHPU6XGQCIkQRGJwhg0StNbj1eegrHs12\", \"https://cdn.bokeh.org/bokeh/release/bokeh-widgets-2.1.1.min.js\": \"xIGPmVtaOm+z0BqfSOMn4lOR6ciex448GIKG4eE61LsAvmGj48XcMQZtKcE/UXZe\", \"https://cdn.bokeh.org/bokeh/release/bokeh-tables-2.1.1.min.js\": \"Dc9u1wF/0zApGIWoBbH77iWEHtdmkuYWG839Uzmv8y8yBLXebjO9ZnERsde5Ln/P\", \"https://cdn.bokeh.org/bokeh/release/bokeh-gl-2.1.1.min.js\": \"cT9JaBz7GiRXdENrJLZNSC6eMNF3nh3fa5fTF51Svp+ukxPdwcU5kGXGPBgDCa2j\"};\n\n    for (var i = 0; i < js_urls.length; i++) {\n      var url = js_urls[i];\n      var element = document.createElement('script');\n      element.onload = on_load;\n      element.onerror = on_error;\n      element.async = false;\n      element.src = url;\n      if (url in hashes) {\n        element.crossOrigin = \"anonymous\";\n        element.integrity = \"sha384-\" + hashes[url];\n      }\n      console.debug(\"Bokeh: injecting script tag for BokehJS library: \", url);\n      document.head.appendChild(element);\n    }\n  };\n\n  function inject_raw_css(css) {\n    const element = document.createElement(\"style\");\n    element.appendChild(document.createTextNode(css));\n    document.body.appendChild(element);\n  }\n\n  \n  var js_urls = [\"https://cdn.bokeh.org/bokeh/release/bokeh-2.1.1.min.js\", \"https://cdn.bokeh.org/bokeh/release/bokeh-widgets-2.1.1.min.js\", \"https://cdn.bokeh.org/bokeh/release/bokeh-tables-2.1.1.min.js\", \"https://cdn.bokeh.org/bokeh/release/bokeh-gl-2.1.1.min.js\"];\n  var css_urls = [];\n  \n\n  var inline_js = [\n    function(Bokeh) {\n      Bokeh.set_log_level(\"info\");\n    },\n    function(Bokeh) {\n    \n    \n    }\n  ];\n\n  function run_inline_js() {\n    \n    if (root.Bokeh !== undefined || force === true) {\n      \n    for (var i = 0; i < inline_js.length; i++) {\n      inline_js[i].call(root, root.Bokeh);\n    }\n    if (force === true) {\n        display_loaded();\n      }} else if (Date.now() < root._bokeh_timeout) {\n      setTimeout(run_inline_js, 100);\n    } else if (!root._bokeh_failed_load) {\n      console.log(\"Bokeh: BokehJS failed to load within specified timeout.\");\n      root._bokeh_failed_load = true;\n    } else if (force !== true) {\n      var cell = $(document.getElementById(\"3519\")).parents('.cell').data().cell;\n      cell.output_area.append_execute_result(NB_LOAD_WARNING)\n    }\n\n  }\n\n  if (root._bokeh_is_loading === 0) {\n    console.debug(\"Bokeh: BokehJS loaded, going straight to plotting\");\n    run_inline_js();\n  } else {\n    load_libs(css_urls, js_urls, function() {\n      console.debug(\"Bokeh: BokehJS plotting callback run at\", now());\n      run_inline_js();\n    });\n  }\n}(window));"
     },
     "metadata": {},
     "output_type": "display_data"
    }
   ],
   "source": [
    "#Import general library\n",
    "import bokeh\n",
    "\n",
    "#Import to handle data parsed to bokeh plots\n",
    "from bokeh.models import ColumnDataSource\n",
    "\n",
    "#Import to handle bokeh notebook\n",
    "from bokeh.io import output_notebook\n",
    "\n",
    "#Import for the background of the map plot\n",
    "from bokeh.tile_providers import CARTODBPOSITRON, get_provider\n",
    "\n",
    "#Import to create plot, show plot, and output plot\n",
    "from bokeh.plotting import figure, output_file, show\n",
    "\n",
    "#Import to handle layout of the bokeh plots\n",
    "from bokeh.layouts import column, row, layout\n",
    "\n",
    "#Importing the RangeTool used in the Timeline plot\n",
    "from bokeh.models import RangeTool\n",
    "\n",
    "#Import to set the range of the Timeline\n",
    "from bokeh.models import Range1d\n",
    "\n",
    "#Import for the button and datepicker widget\n",
    "from bokeh.models import Button, DatePicker\n",
    "\n",
    "#Import for callback on an event\n",
    "from bokeh.events import ButtonClick\n",
    "\n",
    "#Import palette for the color mapper used in geo_map\n",
    "from bokeh.palettes import Turbo256\n",
    "palette = Turbo256\n",
    "\n",
    "#Import log_cmap to support the color mapper for the geo_map\n",
    "from bokeh.transform import log_cmap, linear_cmap\n",
    "\n",
    "#Importing the select tools for bokeh plots\n",
    "from bokeh.models import LassoSelectTool, BoxSelectTool\n",
    "\n",
    "#Import the tools for the color bar\n",
    "from bokeh.models import ColorBar, NumeralTickFormatter\n",
    "\n",
    "output_notebook()"
   ]
  },
  {
   "cell_type": "markdown",
   "metadata": {},
   "source": [
    "### Assumptions"
   ]
  },
  {
   "cell_type": "code",
   "execution_count": 3,
   "metadata": {},
   "outputs": [],
   "source": [
    "#screen resolution\n",
    "screen_height = 680\n",
    "screen_length = 1208"
   ]
  },
  {
   "cell_type": "markdown",
   "metadata": {},
   "source": [
    "### Data import and preparation"
   ]
  },
  {
   "cell_type": "code",
   "execution_count": 4,
   "metadata": {},
   "outputs": [],
   "source": [
    "#Columns that we want to keep from the data we load in\n",
    "import_columns = ['created_at_CET','latitude','longitude','Overall.score','Anger','Confusion',\n",
    "                  'Disgust','Fear','Happiness','Sadness','Shame','Surprise']\n",
    "\n",
    "#Load the data into the python environment\n",
    "twitter_data = pd.read_csv(\"D:/Master Project/complete_swiss_dataset.csv\",encoding = \"ISO-8859-15\",low_memory=False)\n",
    "\n",
    "#Select only the columns that are relevant\n",
    "#Timeline Map Histogram data (TMH_data)\n",
    "TMH_data = twitter_data[import_columns].sort_values(by='created_at_CET',ignore_index=True)\n",
    "\n",
    "#Round all entries in dataframe\n",
    "#Mainly to remove specific gps locations of users\n",
    "TMH_data = TMH_data.round(3)\n",
    "\n",
    "#Format the string input to datetime\n",
    "TMH_data['created_at_CET'] = pd.to_datetime(TMH_data['created_at_CET'], format='%Y-%m-%d %H:%M:%S')\n",
    "\n",
    "#Sort the data by the date at creation\n",
    "TMH_data = TMH_data.sort_values(by='created_at_CET')\n",
    "\n",
    "#Removing the entire dataset now that the selection has been made\n",
    "twitter_data = None"
   ]
  },
  {
   "cell_type": "code",
   "execution_count": 5,
   "metadata": {},
   "outputs": [],
   "source": [
    "#Declare transformer to convert from epsg4326 to epsg 3856 (web mercator)\n",
    "transformer = Transformer.from_crs(\"EPSG:4326\", \"EPSG:3857\")\n",
    "\n",
    "#Transform the coordinates from epsg 4326 to epsg 3857\n",
    "mercator_transform = transformer.transform(TMH_data['latitude'].values,\n",
    "                                           TMH_data['longitude'].values)\n",
    "\n",
    "#\n",
    "TMH_data['x_mercator'] = mercator_transform[0].round(1)\n",
    "TMH_data['y_mercator'] = mercator_transform[1].round(1)"
   ]
  },
  {
   "cell_type": "markdown",
   "metadata": {},
   "source": [
    "### Timeline bokeh plot"
   ]
  },
  {
   "cell_type": "code",
   "execution_count": 6,
   "metadata": {},
   "outputs": [
    {
     "name": "stdout",
     "output_type": "stream",
     "text": [
      "Wall time: 2.75 s\n"
     ]
    }
   ],
   "source": [
    "%%time\n",
    "\n",
    "#Declare a variable to keep track of the current day and year\n",
    "current_day = (TMH_data['created_at_CET'][0]).dayofyear\n",
    "current_year = (TMH_data['created_at_CET'][0]).year\n",
    "\n",
    "#Declare a counter for the frequency on a given day\n",
    "freq_counter = 0\n",
    "#Declare a list to store the frequencies on each day\n",
    "freq_list = []\n",
    "\n",
    "for date in TMH_data['created_at_CET']:\n",
    "    if(current_day == date.dayofyear):\n",
    "        freq_counter += 1\n",
    "    else:\n",
    "        \n",
    "        freq_list.append((datetime.strptime(str(current_year)+str(current_day),\"%Y%j\"),\n",
    "                          freq_counter))\n",
    "        \n",
    "        if(current_year == date.year):\n",
    "            current_day = date.dayofyear\n",
    "        else:\n",
    "            current_year = date.year\n",
    "            current_day = date.dayofyear\n",
    "        freq_counter = 1\n",
    "        \n",
    "freq_list.append((datetime.strptime(str(current_year)+str(current_day),\"%Y%j\"),\n",
    "                          freq_counter))\n",
    "\n",
    "freq_list = np.array(freq_list).T"
   ]
  },
  {
   "cell_type": "code",
   "execution_count": 117,
   "metadata": {},
   "outputs": [],
   "source": [
    "def timeline(doc):\n",
    "    \n",
    "    #Create the Timeline figure\n",
    "    Timeline = figure(background_fill_color=\"#fafafa\",\n",
    "                      x_axis_type='datetime',\n",
    "                      #y_axis_type=None,\n",
    "                      tools=\"pan,box_zoom,wheel_zoom,reset\",\n",
    "                      toolbar_location=\"above\",\n",
    "                      plot_width=int(screen_length*0.7),\n",
    "                      plot_height=int(screen_height*0.3))\n",
    "    \n",
    "    #Load the data for the timeline into a ColumnDataSource for the plot\n",
    "    source = ColumnDataSource(data=dict(date=freq_list[0], freq=freq_list[1]))\n",
    "    \n",
    "    #Plot a line on the graph\n",
    "    Timeline.line('date','freq',source=source)\n",
    "    \n",
    "    #Declare a button which will update the values in Map according to the time period\n",
    "    button = Button(label=\"Update Time Period\", button_type=\"success\",\n",
    "                   width = int(screen_length*0.05),\n",
    "                   height = int(screen_height*0.075))\n",
    "\n",
    "    #Callback to handle the changing x range of the range tool\n",
    "    #Will update the corresponding start and end dates in the datepickers\n",
    "    #datepickers: start_date_input and end_date_input\n",
    "    def range_tool_to_datepicker_handler(attr,old,new):\n",
    "\n",
    "        #If the starting value of the interval is a float then the user has moved the range\n",
    "        if(type(range_tool.x_range.start) == float):\n",
    "            \n",
    "            #Extract the start value of the interval and convert it into correct format for datepicker\n",
    "            new_start_date = datetime.fromtimestamp(range_tool.x_range.start / 1e3).date()\n",
    "            \n",
    "            #Check whether the date is less than the minimum of of the data\n",
    "            if(new_start_date >= min_date_interval):\n",
    "                #If the start date is later than the global minimum then set it as the new date\n",
    "                start_date_input.value = new_start_date\n",
    "            else:\n",
    "                #If the date is before the global minimum then take the global minimum as the start of the range\n",
    "                start_date_input.value = min_date_interval\n",
    "\n",
    "        #If the ending value of the interval is a float then the user has moved the range\n",
    "        if(type(range_tool.x_range.end) == float):\n",
    "            \n",
    "            #Extract the end value of the interval and convert it into correct format for datepicker\n",
    "            new_end_date = datetime.fromtimestamp(range_tool.x_range.end / 1e3).date()\n",
    "            \n",
    "            #Check whether the date is less than the maximum of of the data\n",
    "            if(new_end_date <= max_date_interval):\n",
    "                #If the new end date is before the global maximum\n",
    "                #Set the end date to the new end date\n",
    "                end_date_input.value = new_end_date\n",
    "            else:\n",
    "                #If the value is after the global maximum\n",
    "                #then set the value to the global maximum\n",
    "                end_date_input.value = max_date_interval\n",
    "\n",
    "    #Callback for when the datepicker of starting date changes\n",
    "    def date_picker_to_range_tool_handler_start(attr,old,new):\n",
    "        range_tool.x_range.start = datetime.fromisoformat(start_date_input.value).timestamp() * 1e3\n",
    "        \n",
    "    #Callback for when the datepicker of ending date changes\n",
    "    def date_picker_to_range_tool_handler_end(attr,old,new):\n",
    "        range_tool.x_range.end = datetime.fromisoformat(end_date_input.value).timestamp() * 1e3\n",
    "    \n",
    "    \n",
    "    #button.on_click(date_picker_to_range_tool_handler)\n",
    "    \n",
    "    #Set the global max and min for the date ranges\n",
    "    min_date_interval = TMH_data.iloc[0]['created_at_CET'].date()\n",
    "    max_date_interval = TMH_data.iloc[-1]['created_at_CET'].date()\n",
    "    \n",
    "    #Create a datepicker for the start date\n",
    "    start_date_input = DatePicker(title='Start date', value=min_date_interval,\n",
    "                            min_date=min_date_interval, max_date=max_date_interval,\n",
    "                            width = int(screen_length*0.1),\n",
    "                            height = int(screen_height*0.075))\n",
    "    \n",
    "    #Link the datepicker to the callback for when the value changes\n",
    "    start_date_input.on_change('value',date_picker_to_range_tool_handler_start)\n",
    "    \n",
    "    #Create a datepicker for the end date\n",
    "    end_date_input = DatePicker(title='End date', value=max_date_interval,\n",
    "                          min_date=min_date_interval, max_date=max_date_interval,\n",
    "                          width = int(screen_length*0.1),\n",
    "                          height = int(screen_height*0.075))\n",
    "    \n",
    "    #Link the datepicker to the callback for when the value changes\n",
    "    end_date_input.on_change('value',date_picker_to_range_tool_handler_end)\n",
    "    \n",
    "    #Declare a RangeTool for the selection of the date ranges\n",
    "    range_tool = RangeTool(x_range=Range1d(start=TMH_data.iloc[0]['created_at_CET'],\n",
    "                                           end=TMH_data.iloc[-1]['created_at_CET']))\n",
    "    range_tool.overlay.fill_color = \"navy\"\n",
    "    range_tool.overlay.fill_alpha = 0.1\n",
    "    \n",
    "    #Link the range_tool to the callbacks for its interval\n",
    "    range_tool.x_range.on_change('start',range_tool_to_datepicker_handler)\n",
    "    range_tool.x_range.on_change('end',range_tool_to_datepicker_handler)\n",
    "    \n",
    "    #Add the range_tool to the Timeline plot\n",
    "    Timeline.add_tools(range_tool)\n",
    "    Timeline.toolbar.active_multi = range_tool\n",
    "    \n",
    "    #Create the layout for the Timeline plot\n",
    "    plots = layout([\n",
    "        [Timeline,[start_date_input,end_date_input,button]],\n",
    "    ])\n",
    "    #Add the plot to doc\n",
    "    doc.add_root(plots)"
   ]
  },
  {
   "cell_type": "code",
   "execution_count": 118,
   "metadata": {
    "scrolled": true
   },
   "outputs": [
    {
     "data": {
      "application/vnd.bokehjs_exec.v0+json": "",
      "text/html": [
       "\n",
       "<script id=\"12989\">\n",
       "  var xhr = new XMLHttpRequest()\n",
       "  xhr.responseType = 'blob';\n",
       "  xhr.open('GET', \"http://localhost:56775/autoload.js?bokeh-autoload-element=12989&bokeh-absolute-url=http://localhost:56775&resources=none\", true);\n",
       "  \n",
       "  xhr.onload = function (event) {\n",
       "    var script = document.createElement('script'),\n",
       "    src = URL.createObjectURL(event.target.response);\n",
       "    script.src = src;\n",
       "    document.body.appendChild(script);\n",
       "  };\n",
       "xhr.send();\n",
       "</script>"
      ]
     },
     "metadata": {
      "application/vnd.bokehjs_exec.v0+json": {
       "server_id": "5451625321794ddc8681730d22a0fc22"
      }
     },
     "output_type": "display_data"
    }
   ],
   "source": [
    "show(timeline)"
   ]
  },
  {
   "cell_type": "markdown",
   "metadata": {},
   "source": [
    "### Map bokeh plot"
   ]
  },
  {
   "cell_type": "code",
   "execution_count": 113,
   "metadata": {},
   "outputs": [],
   "source": [
    "#Copy the relevant data from the dataframe\n",
    "Map_data = TMH_data[['x_mercator','y_mercator']].sort_values(by=['x_mercator','y_mercator']).copy()\n",
    "\n",
    "#Reset the index for the calculation of densities\n",
    "Map_data = Map_data.set_index(np.arange(0,len(Map_data)))\n",
    "\n",
    "#Drop all the duplciates, which keeps the first occuring entry in the dataframe\n",
    "Map_data = Map_data.drop_duplicates()\n",
    "\n",
    "#Declare an array the length of the coordinates without duplicates\n",
    "#Will represent the density at each coordinate\n",
    "density = np.ones(len(Map_data))\n",
    "\n",
    "#Loop the array with all the coordinates\n",
    "for i in range(0,len(Map_data)-1):\n",
    "    density[i] = Map_data.index[i+1] - Map_data.index[i]\n",
    "    \n",
    "#Add the column to the Map_data\n",
    "Map_data['density'] = density"
   ]
  },
  {
   "cell_type": "code",
   "execution_count": 114,
   "metadata": {},
   "outputs": [],
   "source": [
    "def geoMap(doc):\n",
    "    #load the background of the map plot\n",
    "    tile_provider = get_provider(CARTODBPOSITRON)\n",
    "\n",
    "    #Create the Map figure\n",
    "    # range bounds supplied in web mercator coordinates\n",
    "    geo_map = figure(x_range=(650000, 1200000), y_range=(5700000, 6100000),\n",
    "                 x_axis_type=\"mercator\", y_axis_type=\"mercator\",\n",
    "                 plot_width=int(screen_length*0.4),\n",
    "                 plot_height=int(screen_height*0.6))\n",
    "    geo_map.add_tools(LassoSelectTool())\n",
    "    geo_map.add_tools(BoxSelectTool())\n",
    "    \n",
    "    #Add the background to the map\n",
    "    geo_map.add_tile(tile_provider)\n",
    "    \n",
    "    source = ColumnDataSource(Map_data)\n",
    "    \n",
    "    color_mapper = log_cmap(field_name = 'density', palette = palette,\n",
    "                               low = Map_data['density'].min(),\n",
    "                               high = Map_data['density'].max())\n",
    "    \n",
    "    #Defines color bar\n",
    "    color_bar = ColorBar(color_mapper=color_mapper['transform'], \n",
    "                     formatter = NumeralTickFormatter(format='0.0[0000]'), \n",
    "                     label_standoff = 13, width=8, location=(0,0))# Set color_bar location\n",
    "    \n",
    "    geo_map.add_layout(color_bar, 'right')\n",
    "    \n",
    "    geo_map.circle(x='x_mercator', y='y_mercator', size=1, color=color_mapper, alpha=0.5, source=source)\n",
    "    \n",
    "    #Declare a button which will update the values in Map according to the time period\n",
    "    map_update_button = Button(label=\"Update Time Period Map\", button_type=\"success\",\n",
    "                               width = int(screen_length*0.05),\n",
    "                               height = int(screen_height*0.075))\n",
    "    \n",
    "    #Set the global max and min for the date ranges\n",
    "    min_date_interval = TMH_data.iloc[0]['created_at_CET'].date()\n",
    "    max_date_interval = TMH_data.iloc[-1]['created_at_CET'].date()\n",
    "    \n",
    "    #Create a datepicker for the start date\n",
    "    start_date_input = DatePicker(title='Start date', value=min_date_interval,\n",
    "                            min_date=min_date_interval, max_date=max_date_interval,\n",
    "                            width = int(screen_length*0.1),\n",
    "                            height = int(screen_height*0.075))\n",
    "    \n",
    "    #Create a datepicker for the end date\n",
    "    end_date_input = DatePicker(title='End date', value=max_date_interval,\n",
    "                          min_date=min_date_interval, max_date=max_date_interval,\n",
    "                          width = int(screen_length*0.1),\n",
    "                          height = int(screen_height*0.075))\n",
    "    \n",
    "    def temp():\n",
    "        print(source.selected.indices)\n",
    "    \n",
    "    map_update_button.on_click(temp)\n",
    "    \n",
    "    plots = layout([\n",
    "        [geo_map],\n",
    "        [start_date_input,end_date_input,map_update_button],\n",
    "        \n",
    "    ])\n",
    "    doc.add_root(plots)"
   ]
  },
  {
   "cell_type": "code",
   "execution_count": 115,
   "metadata": {},
   "outputs": [
    {
     "data": {
      "application/vnd.bokehjs_exec.v0+json": "",
      "text/html": [
       "\n",
       "<script id=\"12714\">\n",
       "  var xhr = new XMLHttpRequest()\n",
       "  xhr.responseType = 'blob';\n",
       "  xhr.open('GET', \"http://localhost:56753/autoload.js?bokeh-autoload-element=12714&bokeh-absolute-url=http://localhost:56753&resources=none\", true);\n",
       "  \n",
       "  xhr.onload = function (event) {\n",
       "    var script = document.createElement('script'),\n",
       "    src = URL.createObjectURL(event.target.response);\n",
       "    script.src = src;\n",
       "    document.body.appendChild(script);\n",
       "  };\n",
       "xhr.send();\n",
       "</script>"
      ]
     },
     "metadata": {
      "application/vnd.bokehjs_exec.v0+json": {
       "server_id": "787015d8620048e0a99bc227bf30007b"
      }
     },
     "output_type": "display_data"
    }
   ],
   "source": [
    "show(geoMap)"
   ]
  },
  {
   "cell_type": "markdown",
   "metadata": {},
   "source": [
    "### Histogram bokeh plot"
   ]
  },
  {
   "cell_type": "code",
   "execution_count": 101,
   "metadata": {},
   "outputs": [
    {
     "name": "stdout",
     "output_type": "stream",
     "text": [
      "Wall time: 268 ms\n"
     ]
    }
   ],
   "source": [
    "%%time\n",
    "Map_data = TMH_data[['x_mercator','y_mercator']].sort_values(by=['x_mercator','y_mercator']).copy()"
   ]
  },
  {
   "cell_type": "code",
   "execution_count": 46,
   "metadata": {},
   "outputs": [
    {
     "name": "stdout",
     "output_type": "stream",
     "text": [
      "Wall time: 18 ms\n"
     ]
    }
   ],
   "source": [
    "%%time\n",
    "Map_data = Map_data.set_index(np.arange(0,len(Map_data)))"
   ]
  },
  {
   "cell_type": "code",
   "execution_count": 102,
   "metadata": {},
   "outputs": [
    {
     "name": "stdout",
     "output_type": "stream",
     "text": [
      "Wall time: 77 ms\n"
     ]
    }
   ],
   "source": [
    "%%time\n",
    "Map_data = Map_data.drop_duplicates()"
   ]
  },
  {
   "cell_type": "code",
   "execution_count": 104,
   "metadata": {},
   "outputs": [],
   "source": [
    "#Declare an array the length of the coordinates without duplicates\n",
    "#Will represent the density at each coordinate\n",
    "density = np.ones(len(Map_data))\n",
    "\n",
    "#Loop the array with all the coordinates\n",
    "for i in range(0,len(Map_data)-1):\n",
    "    density[i] = Map_data.index[i+1] - Map_data.index[i]\n",
    "    \n",
    "#Add the column to the Map_data\n",
    "Map_data['density'] = density"
   ]
  },
  {
   "cell_type": "code",
   "execution_count": 84,
   "metadata": {},
   "outputs": [
    {
     "name": "stdout",
     "output_type": "stream",
     "text": [
      "Wall time: 999 µs\n"
     ]
    }
   ],
   "source": [
    "%%time\n",
    "density.sort()"
   ]
  },
  {
   "cell_type": "code",
   "execution_count": 111,
   "metadata": {},
   "outputs": [
    {
     "data": {
      "text/plain": [
       "10362     178230.0\n",
       "188592   -187826.0\n",
       "324339   -220169.0\n",
       "104170    284826.0\n",
       "97461      -6010.0\n",
       "            ...   \n",
       "393994    252081.0\n",
       "646075   -598966.0\n",
       "14717     125363.0\n",
       "786769   -759815.0\n",
       "850494   -379462.0\n",
       "Name: density, Length: 67, dtype: float64"
      ]
     },
     "execution_count": 111,
     "metadata": {},
     "output_type": "execute_result"
    }
   ],
   "source": [
    "Map_data.iloc[[75220, 75221, 75235, 75236, 75489, 75582, 75661, 75815, 75816, 75830, 75841, 75842, 75869, 75876, 75877, 75882, 75889, 75890, 75891, 75897, 75898, 75899, 75905, 75913, 75923, 75934, 75944, 75961, 75968, 75969, 75970, 75971, 75977, 75978, 75980, 75981, 75982, 75984, 75985, 75986, 75987, 75992, 75993, 75994, 76001, 76002, 76003, 76006, 76007, 76008, 76009, 76010, 76011, 76012, 76024, 76025, 76026, 76027, 76040, 76041, 76077, 76078, 76088, 76089, 76120, 76151, 76159]]['density']"
   ]
  },
  {
   "cell_type": "code",
   "execution_count": 87,
   "metadata": {},
   "outputs": [
    {
     "data": {
      "text/plain": [
       "894.0"
      ]
     },
     "execution_count": 87,
     "metadata": {},
     "output_type": "execute_result"
    }
   ],
   "source": [
    "density[-100]"
   ]
  },
  {
   "cell_type": "code",
   "execution_count": 18,
   "metadata": {},
   "outputs": [],
   "source": [
    "count = 0\n",
    "while(count < len(test2)):\n",
    "    test2.iloc[count]['test_density'] = None\n",
    "    count = count + int(3*np.random.uniform())"
   ]
  },
  {
   "cell_type": "code",
   "execution_count": 33,
   "metadata": {},
   "outputs": [
    {
     "data": {
      "text/html": [
       "<div>\n",
       "<style scoped>\n",
       "    .dataframe tbody tr th:only-of-type {\n",
       "        vertical-align: middle;\n",
       "    }\n",
       "\n",
       "    .dataframe tbody tr th {\n",
       "        vertical-align: top;\n",
       "    }\n",
       "\n",
       "    .dataframe thead th {\n",
       "        text-align: right;\n",
       "    }\n",
       "</style>\n",
       "<table border=\"1\" class=\"dataframe\">\n",
       "  <thead>\n",
       "    <tr style=\"text-align: right;\">\n",
       "      <th></th>\n",
       "      <th>x_mercator</th>\n",
       "      <th>y_mercator</th>\n",
       "      <th>test_density</th>\n",
       "    </tr>\n",
       "  </thead>\n",
       "  <tbody>\n",
       "    <tr>\n",
       "      <th>547313</th>\n",
       "      <td>-3197095.8</td>\n",
       "      <td>4668810.0</td>\n",
       "      <td>NaN</td>\n",
       "    </tr>\n",
       "    <tr>\n",
       "      <th>66586</th>\n",
       "      <td>-2449585.4</td>\n",
       "      <td>9388979.0</td>\n",
       "      <td>NaN</td>\n",
       "    </tr>\n",
       "    <tr>\n",
       "      <th>254259</th>\n",
       "      <td>-986290.7</td>\n",
       "      <td>4655423.8</td>\n",
       "      <td>91.0</td>\n",
       "    </tr>\n",
       "    <tr>\n",
       "      <th>278343</th>\n",
       "      <td>-963581.5</td>\n",
       "      <td>5315625.6</td>\n",
       "      <td>NaN</td>\n",
       "    </tr>\n",
       "    <tr>\n",
       "      <th>1108542</th>\n",
       "      <td>-961689.1</td>\n",
       "      <td>5221539.4</td>\n",
       "      <td>82.0</td>\n",
       "    </tr>\n",
       "    <tr>\n",
       "      <th>...</th>\n",
       "      <td>...</td>\n",
       "      <td>...</td>\n",
       "      <td>...</td>\n",
       "    </tr>\n",
       "    <tr>\n",
       "      <th>877772</th>\n",
       "      <td>5350460.0</td>\n",
       "      <td>3417842.8</td>\n",
       "      <td>52.0</td>\n",
       "    </tr>\n",
       "    <tr>\n",
       "      <th>548225</th>\n",
       "      <td>5515992.1</td>\n",
       "      <td>3137846.8</td>\n",
       "      <td>NaN</td>\n",
       "    </tr>\n",
       "    <tr>\n",
       "      <th>958063</th>\n",
       "      <td>5519665.6</td>\n",
       "      <td>2918426.3</td>\n",
       "      <td>NaN</td>\n",
       "    </tr>\n",
       "    <tr>\n",
       "      <th>16982</th>\n",
       "      <td>5527569.3</td>\n",
       "      <td>3124346.3</td>\n",
       "      <td>25.0</td>\n",
       "    </tr>\n",
       "    <tr>\n",
       "      <th>679531</th>\n",
       "      <td>5556623.7</td>\n",
       "      <td>3078690.6</td>\n",
       "      <td>NaN</td>\n",
       "    </tr>\n",
       "  </tbody>\n",
       "</table>\n",
       "<p>77101 rows × 3 columns</p>\n",
       "</div>"
      ],
      "text/plain": [
       "         x_mercator  y_mercator  test_density\n",
       "547313   -3197095.8   4668810.0           NaN\n",
       "66586    -2449585.4   9388979.0           NaN\n",
       "254259    -986290.7   4655423.8          91.0\n",
       "278343    -963581.5   5315625.6           NaN\n",
       "1108542   -961689.1   5221539.4          82.0\n",
       "...             ...         ...           ...\n",
       "877772    5350460.0   3417842.8          52.0\n",
       "548225    5515992.1   3137846.8           NaN\n",
       "958063    5519665.6   2918426.3           NaN\n",
       "16982     5527569.3   3124346.3          25.0\n",
       "679531    5556623.7   3078690.6           NaN\n",
       "\n",
       "[77101 rows x 3 columns]"
      ]
     },
     "execution_count": 33,
     "metadata": {},
     "output_type": "execute_result"
    }
   ],
   "source": [
    "test2"
   ]
  },
  {
   "cell_type": "code",
   "execution_count": 20,
   "metadata": {},
   "outputs": [
    {
     "name": "stdout",
     "output_type": "stream",
     "text": [
      "Wall time: 999 µs\n"
     ]
    },
    {
     "data": {
      "text/html": [
       "<div>\n",
       "<style scoped>\n",
       "    .dataframe tbody tr th:only-of-type {\n",
       "        vertical-align: middle;\n",
       "    }\n",
       "\n",
       "    .dataframe tbody tr th {\n",
       "        vertical-align: top;\n",
       "    }\n",
       "\n",
       "    .dataframe thead th {\n",
       "        text-align: right;\n",
       "    }\n",
       "</style>\n",
       "<table border=\"1\" class=\"dataframe\">\n",
       "  <thead>\n",
       "    <tr style=\"text-align: right;\">\n",
       "      <th></th>\n",
       "      <th>created_at_CET</th>\n",
       "      <th>latitude</th>\n",
       "      <th>longitude</th>\n",
       "      <th>Overall.score</th>\n",
       "      <th>Anger</th>\n",
       "      <th>Confusion</th>\n",
       "      <th>Disgust</th>\n",
       "      <th>Fear</th>\n",
       "      <th>Happiness</th>\n",
       "      <th>Sadness</th>\n",
       "      <th>Shame</th>\n",
       "      <th>Surprise</th>\n",
       "      <th>x_mercator</th>\n",
       "      <th>y_mercator</th>\n",
       "    </tr>\n",
       "  </thead>\n",
       "  <tbody>\n",
       "    <tr>\n",
       "      <th>123</th>\n",
       "      <td>2015-01-01 01:45:40</td>\n",
       "      <td>46.188</td>\n",
       "      <td>6.137</td>\n",
       "      <td>0</td>\n",
       "      <td>0</td>\n",
       "      <td>0</td>\n",
       "      <td>0</td>\n",
       "      <td>0</td>\n",
       "      <td>0</td>\n",
       "      <td>0</td>\n",
       "      <td>0</td>\n",
       "      <td>0</td>\n",
       "      <td>683167.7</td>\n",
       "      <td>5810527.7</td>\n",
       "    </tr>\n",
       "    <tr>\n",
       "      <th>124</th>\n",
       "      <td>2015-01-01 01:45:41</td>\n",
       "      <td>47.563</td>\n",
       "      <td>7.599</td>\n",
       "      <td>0</td>\n",
       "      <td>0</td>\n",
       "      <td>0</td>\n",
       "      <td>0</td>\n",
       "      <td>0</td>\n",
       "      <td>0</td>\n",
       "      <td>0</td>\n",
       "      <td>0</td>\n",
       "      <td>0</td>\n",
       "      <td>845916.8</td>\n",
       "      <td>6034459.1</td>\n",
       "    </tr>\n",
       "    <tr>\n",
       "      <th>11</th>\n",
       "      <td>2015-01-01 01:02:01</td>\n",
       "      <td>47.055</td>\n",
       "      <td>8.315</td>\n",
       "      <td>3</td>\n",
       "      <td>0</td>\n",
       "      <td>0</td>\n",
       "      <td>0</td>\n",
       "      <td>0</td>\n",
       "      <td>3</td>\n",
       "      <td>0</td>\n",
       "      <td>0</td>\n",
       "      <td>0</td>\n",
       "      <td>925621.6</td>\n",
       "      <td>5951056.1</td>\n",
       "    </tr>\n",
       "    <tr>\n",
       "      <th>23</th>\n",
       "      <td>2015-01-01 01:05:33</td>\n",
       "      <td>47.525</td>\n",
       "      <td>7.558</td>\n",
       "      <td>4</td>\n",
       "      <td>0</td>\n",
       "      <td>0</td>\n",
       "      <td>0</td>\n",
       "      <td>0</td>\n",
       "      <td>4</td>\n",
       "      <td>0</td>\n",
       "      <td>0</td>\n",
       "      <td>0</td>\n",
       "      <td>841352.7</td>\n",
       "      <td>6028192.4</td>\n",
       "    </tr>\n",
       "  </tbody>\n",
       "</table>\n",
       "</div>"
      ],
      "text/plain": [
       "         created_at_CET  latitude  longitude  Overall.score  Anger  Confusion  \\\n",
       "123 2015-01-01 01:45:40    46.188      6.137              0      0          0   \n",
       "124 2015-01-01 01:45:41    47.563      7.599              0      0          0   \n",
       "11  2015-01-01 01:02:01    47.055      8.315              3      0          0   \n",
       "23  2015-01-01 01:05:33    47.525      7.558              4      0          0   \n",
       "\n",
       "     Disgust  Fear  Happiness  Sadness  Shame  Surprise  x_mercator  \\\n",
       "123        0     0          0        0      0         0    683167.7   \n",
       "124        0     0          0        0      0         0    845916.8   \n",
       "11         0     0          3        0      0         0    925621.6   \n",
       "23         0     0          4        0      0         0    841352.7   \n",
       "\n",
       "     y_mercator  \n",
       "123   5810527.7  \n",
       "124   6034459.1  \n",
       "11    5951056.1  \n",
       "23    6028192.4  "
      ]
     },
     "execution_count": 20,
     "metadata": {},
     "output_type": "execute_result"
    }
   ],
   "source": [
    "%%time\n",
    "TMH_data.iloc[[123,124,11,23]]"
   ]
  },
  {
   "cell_type": "markdown",
   "metadata": {},
   "source": [
    "### Adding all the bokeh plots together"
   ]
  },
  {
   "cell_type": "code",
   "execution_count": 21,
   "metadata": {},
   "outputs": [],
   "source": [
    "def bkapp(doc):\n",
    "    \n",
    "    #Create the Timeline figure\n",
    "    Timeline = figure(background_fill_color=\"#fafafa\",\n",
    "                      x_axis_type='datetime',\n",
    "                      y_axis_type=None,\n",
    "                      tools=\"\",toolbar_location=None,\n",
    "                      plot_width=int(screen_length*0.8),\n",
    "                      plot_height=int(screen_height*0.2))\n",
    "    \n",
    "    #range_tool = RangeTool(x_range=Range1d(start=TMH_data.iloc[0]['created_at_CET'],end=TMH_data.iloc[0-1]['created_at_CET']))\n",
    "    range_tool = RangeTool(x_range=Range1d(1,3))\n",
    "    range_tool.overlay.fill_color = \"navy\"\n",
    "    range_tool.overlay.fill_alpha = 0.2\n",
    "    \n",
    "    Timeline.add_tools(range_tool)\n",
    "    Timeline.toolbar.active_multi = range_tool\n",
    "    \n",
    "    Timeline.circle([1,2,3,4,5,6],[1,1,1,1,1,1])\n",
    "\n",
    "    #load the background of the map plot\n",
    "    tile_provider = get_provider(CARTODBPOSITRON)\n",
    "\n",
    "    #Create the Map figure\n",
    "    # range bounds supplied in web mercator coordinates\n",
    "    Map = figure(x_range=(650000, 1200000), y_range=(5700000, 6100000),\n",
    "                 x_axis_type=\"mercator\", y_axis_type=\"mercator\",\n",
    "                 plot_width=int(screen_length*0.4),\n",
    "                 plot_height=int(screen_height*0.6))\n",
    "    \n",
    "    #Add the background to the map\n",
    "    Map.add_tile(tile_provider)\n",
    "    \n",
    "    source = ColumnDataSource(data=dict(longitude=TMH_data['x_mercator'][0:1000], latitude=TMH_data['y_mercator'][0:1000]))\n",
    "\n",
    "    Map.circle(x='longitude', y='latitude', size=2, color=\"black\", alpha=0.7, source=source)\n",
    "    \n",
    "    #Create the Histogram figure\n",
    "    Histogram = figure(background_fill_color=\"#fafafa\",\n",
    "                       plot_width=int(screen_length*0.4),\n",
    "                       plot_height=int(screen_height*0.6))\n",
    "    \n",
    "    Histogram.circle(1,1)\n",
    "    \n",
    "\n",
    "    plots = layout([\n",
    "        [Timeline],\n",
    "        [Map,Histogram],\n",
    "        \n",
    "    ])\n",
    "    doc.add_root(plots)"
   ]
  },
  {
   "cell_type": "code",
   "execution_count": 22,
   "metadata": {
    "scrolled": false
   },
   "outputs": [
    {
     "data": {
      "application/vnd.bokehjs_exec.v0+json": "",
      "text/html": [
       "\n",
       "<script id=\"1005\">\n",
       "  var xhr = new XMLHttpRequest()\n",
       "  xhr.responseType = 'blob';\n",
       "  xhr.open('GET', \"http://localhost:51734/autoload.js?bokeh-autoload-element=1005&bokeh-absolute-url=http://localhost:51734&resources=none\", true);\n",
       "  \n",
       "  xhr.onload = function (event) {\n",
       "    var script = document.createElement('script'),\n",
       "    src = URL.createObjectURL(event.target.response);\n",
       "    script.src = src;\n",
       "    document.body.appendChild(script);\n",
       "  };\n",
       "xhr.send();\n",
       "</script>"
      ]
     },
     "metadata": {
      "application/vnd.bokehjs_exec.v0+json": {
       "server_id": "9780e95895484becb2b55f5039bd7e84"
      }
     },
     "output_type": "display_data"
    }
   ],
   "source": [
    "show(bkapp)"
   ]
  },
  {
   "cell_type": "code",
   "execution_count": 23,
   "metadata": {},
   "outputs": [
    {
     "ename": "AttributeError",
     "evalue": "type object 'datetime.datetime' has no attribute 'datetime'",
     "output_type": "error",
     "traceback": [
      "\u001b[1;31m---------------------------------------------------------------------------\u001b[0m",
      "\u001b[1;31mAttributeError\u001b[0m                            Traceback (most recent call last)",
      "\u001b[1;32m<ipython-input-23-9f0fd09c33c6>\u001b[0m in \u001b[0;36m<module>\u001b[1;34m\u001b[0m\n\u001b[1;32m----> 1\u001b[1;33m \u001b[0mdatetime\u001b[0m\u001b[1;33m.\u001b[0m\u001b[0mdatetime\u001b[0m\u001b[1;33m(\u001b[0m\u001b[0mTMH_data\u001b[0m\u001b[1;33m[\u001b[0m\u001b[1;34m'created_at_CET'\u001b[0m\u001b[1;33m]\u001b[0m\u001b[1;33m[\u001b[0m\u001b[1;36m0\u001b[0m\u001b[1;33m]\u001b[0m\u001b[1;33m)\u001b[0m\u001b[1;33m\u001b[0m\u001b[1;33m\u001b[0m\u001b[0m\n\u001b[0m\u001b[0;32m      2\u001b[0m \u001b[1;33m\u001b[0m\u001b[0m\n",
      "\u001b[1;31mAttributeError\u001b[0m: type object 'datetime.datetime' has no attribute 'datetime'"
     ]
    }
   ],
   "source": [
    "datetime.datetime(TMH_data['created_at_CET'][0])\n",
    "\n"
   ]
  },
  {
   "cell_type": "code",
   "execution_count": null,
   "metadata": {},
   "outputs": [],
   "source": [
    "%%time\n",
    "TMH_data.sort_values(by='created_at_CET')"
   ]
  },
  {
   "cell_type": "code",
   "execution_count": null,
   "metadata": {},
   "outputs": [],
   "source": [
    "%%time\n",
    "TMH_data.sort_values(by='created_at_CET')"
   ]
  },
  {
   "cell_type": "code",
   "execution_count": null,
   "metadata": {},
   "outputs": [],
   "source": [
    "TMH_data['created_at_CET'] = pd.to_datetime(TMH_data['created_at_CET'], format='%Y-%m-%d %H:%M:%S')"
   ]
  },
  {
   "cell_type": "code",
   "execution_count": null,
   "metadata": {},
   "outputs": [],
   "source": [
    "Range1d(start=TMH_data.iloc[0]['created_at_CET'],end=TMH_data.iloc[0-1]['created_at_CET'])"
   ]
  },
  {
   "cell_type": "code",
   "execution_count": null,
   "metadata": {},
   "outputs": [
    {
     "name": "stdout",
     "output_type": "stream",
     "text": [
      "[74898, 74971, 74972, 75011, 75069, 75124, 75152, 75192, 75228, 75244, 75262, 75381, 75518, 75543, 75552, 75553, 75580, 75581, 75644, 75660, 75730, 75734, 75735, 75746, 75754, 75773, 75793, 75803, 75814, 75839, 75840, 75881, 75888, 75917, 75931, 75932, 75942, 75960, 75976, 76127, 76135]\n"
     ]
    }
   ],
   "source": [
    "TMH_data.iloc[0]['created_at_CET']"
   ]
  },
  {
   "cell_type": "code",
   "execution_count": null,
   "metadata": {},
   "outputs": [],
   "source": []
  },
  {
   "cell_type": "code",
   "execution_count": null,
   "metadata": {},
   "outputs": [],
   "source": []
  },
  {
   "cell_type": "code",
   "execution_count": null,
   "metadata": {},
   "outputs": [],
   "source": []
  }
 ],
 "metadata": {
  "kernelspec": {
   "display_name": "Python 3",
   "language": "python",
   "name": "python3"
  },
  "language_info": {
   "codemirror_mode": {
    "name": "ipython",
    "version": 3
   },
   "file_extension": ".py",
   "mimetype": "text/x-python",
   "name": "python",
   "nbconvert_exporter": "python",
   "pygments_lexer": "ipython3",
   "version": "3.8.3"
  }
 },
 "nbformat": 4,
 "nbformat_minor": 4
}
